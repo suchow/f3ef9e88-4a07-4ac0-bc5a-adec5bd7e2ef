{
 "cells": [
  {
   "cell_type": "code",
   "execution_count": 0,
   "metadata": {
    "collapsed": false,
    "inputHidden": false,
    "outputHidden": false
   },
   "outputs": [],
   "source": [
    "import dallinger as dlgr\n",
    "\n",
    "# Load the data and verify its contents.\n",
    "data = dlgr.data.load(\"f3ef9e88-4a07-4ac0-bc5a-adec5bd7e2ef\")\n",
    "assert data.checksum == \"484453cccd3573bf200bc6a72e234b083bc1e3c0c44b328dd4f5e5366b4415fb\""
   ]
  }
 ],
 "metadata": {
  "gist_id": "5b2a9370f7fd6eb217c51f1c3c5ebfcf",
  "kernel_info": {
   "name": "python2"
  },
  "kernelspec": {
   "display_name": "Python 2",
   "language": "python",
   "name": "python2"
  },
  "language_info": {
   "codemirror_mode": {
    "name": "ipython",
    "version": 2
   },
   "file_extension": ".py",
   "mimetype": "text/x-python",
   "name": "python",
   "nbconvert_exporter": "python",
   "pygments_lexer": "ipython2",
   "version": "2.7.13"
  }
 },
 "nbformat": 4,
 "nbformat_minor": 4
}
